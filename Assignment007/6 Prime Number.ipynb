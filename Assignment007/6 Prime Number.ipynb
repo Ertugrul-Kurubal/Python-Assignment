{
 "metadata": {
  "language_info": {
   "codemirror_mode": {
    "name": "ipython",
    "version": 3
   },
   "file_extension": ".py",
   "mimetype": "text/x-python",
   "name": "python",
   "nbconvert_exporter": "python",
   "pygments_lexer": "ipython3",
   "version": "3.9.0-final"
  },
  "orig_nbformat": 2,
  "kernelspec": {
   "name": "python3",
   "display_name": "Python 3",
   "language": "python"
  }
 },
 "nbformat": 4,
 "nbformat_minor": 2,
 "cells": [
  {
   "cell_type": "code",
   "execution_count": 9,
   "metadata": {},
   "outputs": [
    {
     "output_type": "stream",
     "name": "stdout",
     "text": [
      "[2, 3, 5, 7, 11, 13, 17, 19, 23, 29, 31, 37, 41, 43, 47, 53, 59, 61, 67, 71, 73, 79, 83, 89, 97]\n"
     ]
    }
   ],
   "source": [
    "# Assignment - 007/6 (Prime Numbers)\n",
    "prime_num = []\n",
    "not_prime_num = []\n",
    "for n in range(100): \n",
    "    count = 0\n",
    "    for i in range(1, n+1):\n",
    "        if not (n%i):\n",
    "            count += 1\n",
    "    if (n==0) or (n==1) or (count>=3):\n",
    "        not_prime_num.append(n)\n",
    "    else:\n",
    "        prime_num.append(n)\n",
    "print(prime_num)\n"
   ]
  },
  {
   "cell_type": "code",
   "execution_count": 16,
   "metadata": {},
   "outputs": [
    {
     "output_type": "stream",
     "name": "stdout",
     "text": [
      "[2, 3, 5, 7, 11, 13, 17, 19, 23, 29, 31, 37, 41, 43, 47, 53, 59, 61, 67, 71, 73, 79, 83, 89, 97]\n"
     ]
    }
   ],
   "source": [
    "# Assignment - 007/6 (Prime Numbers) 2\n",
    "prime_num = []\n",
    "not_prime_num = []\n",
    "for n in range(100):\n",
    "    div_num = []\n",
    "    for i in range(2, n):\n",
    "        if n % i == 0:\n",
    "            div_num.append(i)       \n",
    "    if len(div_num) > 0 or n == 1 or n == 0:\n",
    "        not_prime_num.append(n)\n",
    "    else :\n",
    "        prime_num.append(n)\n",
    "print(prime_num)"
   ]
  },
  {
   "cell_type": "code",
   "execution_count": null,
   "metadata": {},
   "outputs": [],
   "source": []
  }
 ]
}