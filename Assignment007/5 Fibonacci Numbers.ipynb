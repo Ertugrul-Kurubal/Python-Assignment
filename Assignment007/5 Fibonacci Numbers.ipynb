{
 "metadata": {
  "language_info": {
   "codemirror_mode": {
    "name": "ipython",
    "version": 3
   },
   "file_extension": ".py",
   "mimetype": "text/x-python",
   "name": "python",
   "nbconvert_exporter": "python",
   "pygments_lexer": "ipython3",
   "version": "3.9.0-final"
  },
  "orig_nbformat": 2,
  "kernelspec": {
   "name": "python3",
   "display_name": "Python 3",
   "language": "python"
  }
 },
 "nbformat": 4,
 "nbformat_minor": 2,
 "cells": [
  {
   "cell_type": "code",
   "execution_count": 19,
   "metadata": {
    "tags": []
   },
   "outputs": [
    {
     "output_type": "stream",
     "name": "stdout",
     "text": [
      "[1, 1, 2, 3, 5, 8, 13, 21, 34, 55]\n"
     ]
    }
   ],
   "source": [
    "# Assignment - 007/5 (Fibonacci Numbers)\n",
    "fib_num = []\n",
    "num_1 = 1\n",
    "num_2 = 0\n",
    "while num_1 < 55:\n",
    "    num_2 = num_2 + num_1\n",
    "    fib_num.append(num_1)\n",
    "    num_1 = num_2 + num_1    \n",
    "    fib_num.append(num_2)    \n",
    "print(fib_num)\n",
    "\n",
    "\n"
   ]
  },
  {
   "cell_type": "code",
   "execution_count": null,
   "metadata": {},
   "outputs": [],
   "source": []
  }
 ]
}