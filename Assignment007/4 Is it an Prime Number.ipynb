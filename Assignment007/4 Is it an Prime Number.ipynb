{
 "metadata": {
  "language_info": {
   "codemirror_mode": {
    "name": "ipython",
    "version": 3
   },
   "file_extension": ".py",
   "mimetype": "text/x-python",
   "name": "python",
   "nbconvert_exporter": "python",
   "pygments_lexer": "ipython3",
   "version": "3.9.0-final"
  },
  "orig_nbformat": 2,
  "kernelspec": {
   "name": "python3",
   "display_name": "Python 3",
   "language": "python"
  }
 },
 "nbformat": 4,
 "nbformat_minor": 2,
 "cells": [
  {
   "cell_type": "code",
   "execution_count": 27,
   "metadata": {},
   "outputs": [
    {
     "output_type": "stream",
     "name": "stdout",
     "text": [
      "37 is a Prime Number\n"
     ]
    }
   ],
   "source": [
    "# Assignment - 007/4 (Is it an Prime Number?)\n",
    "while True:\n",
    "    num_1 = input(\"Enter a positive number: \")\n",
    "    num_2 = len(set(str(num_1.lower())).intersection(set('qazwsxedcrfvtgbyhnujmıköolçpşğüi.,:;!?-')))\n",
    "    if num_2 > 0:\n",
    "        print(\"It is an invalid entry. Don't use non-numeric, float, or negative values!\")\n",
    "    else :\n",
    "        break\n",
    "num_3 = int(num_1)\n",
    "div_num = []\n",
    "for i in range(2, num_3):\n",
    "    if int(num_1) % i == 0:\n",
    "        div_num.append(i)       \n",
    "if len(div_num) > 0 or int(num_1) == 1:\n",
    "    print(f\"{num_1} is not a Prime Number\")\n",
    "else :\n",
    "    print(f\"{num_1} is a Prime Number\")"
   ]
  },
  {
   "cell_type": "code",
   "execution_count": 2,
   "metadata": {},
   "outputs": [
    {
     "output_type": "stream",
     "name": "stdout",
     "text": [
      "17 is a prime number\n"
     ]
    }
   ],
   "source": [
    "# Code Challenge\n",
    "n = int(input(\"Enter a number: \"))\n",
    "count = 0\n",
    "for i in range(1, n+1):\n",
    "    if not (n%i):\n",
    "        count += 1\n",
    "if (n==0) or (n==1) or (count>=3):\n",
    "    print (n, \"is not a prime number\")\n",
    "else:\n",
    "    print(n, \"is a prime number\")\n"
   ]
  },
  {
   "cell_type": "code",
   "execution_count": null,
   "metadata": {},
   "outputs": [],
   "source": []
  }
 ]
}