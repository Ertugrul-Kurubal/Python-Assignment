{
 "metadata": {
  "language_info": {
   "codemirror_mode": {
    "name": "ipython",
    "version": 3
   },
   "file_extension": ".py",
   "mimetype": "text/x-python",
   "name": "python",
   "nbconvert_exporter": "python",
   "pygments_lexer": "ipython3",
   "version": "3.9.0-final"
  },
  "orig_nbformat": 2,
  "kernelspec": {
   "name": "python3",
   "display_name": "Python 3",
   "language": "python"
  }
 },
 "nbformat": 4,
 "nbformat_minor": 2,
 "cells": [
  {
   "cell_type": "code",
   "execution_count": 1,
   "metadata": {},
   "outputs": [
    {
     "output_type": "stream",
     "name": "stdout",
     "text": [
      "You are in risky group\n"
     ]
    }
   ],
   "source": [
    "# Assignment - 007/2 (Covid-19)\n",
    "age = str(input('Are you a cigarette addict older than 75 years old? Yes/No :'))\n",
    "chronic = str(input('Do you have a severe chronic disease? Yes/No :'))\n",
    "immune = str(input('Is your immune system too weak? Yes/No :'))\n",
    "if (age.lower() == 'yes') or (chronic.lower() == 'yes') or (immune.lower() == 'yes') :\n",
    "    print('You are in risky group')\n",
    "else :\n",
    "    print('You are not in risky group')"
   ]
  },
  {
   "cell_type": "code",
   "execution_count": null,
   "metadata": {},
   "outputs": [],
   "source": []
  }
 ]
}