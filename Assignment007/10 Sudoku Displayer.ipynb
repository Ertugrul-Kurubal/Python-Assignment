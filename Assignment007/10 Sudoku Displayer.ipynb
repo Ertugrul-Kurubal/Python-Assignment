{
 "metadata": {
  "language_info": {
   "codemirror_mode": {
    "name": "ipython",
    "version": 3
   },
   "file_extension": ".py",
   "mimetype": "text/x-python",
   "name": "python",
   "nbconvert_exporter": "python",
   "pygments_lexer": "ipython3",
   "version": "3.9.0-final"
  },
  "orig_nbformat": 2,
  "kernelspec": {
   "name": "python3",
   "display_name": "Python 3.9.0 64-bit",
   "metadata": {
    "interpreter": {
     "hash": "43a9cd95aa030499ef934e4da31e07dde54f3fc3a1fd0cc4aeef7f16459ee2ac"
    }
   }
  }
 },
 "nbformat": 4,
 "nbformat_minor": 2,
 "cells": [
  {
   "cell_type": "code",
   "execution_count": 1,
   "metadata": {},
   "outputs": [
    {
     "output_type": "stream",
     "name": "stdout",
     "text": [
      "- - - - - - - - - - - - - - - - \n0  0  0  |  0  6  4  |  0  0  0\n7  0  0  |  0  0  0  |  3  9  0\n8  0  0  |  0  0  0  |  0  0  0\n- - - - - - - - - - - - - - - - \n0  0  0  |  5  0  2  |  0  6  0\n0  8  0  |  4  0  0  |  0  0  0\n3  5  0  |  6  0  0  |  0  7  0\n- - - - - - - - - - - - - - - - \n0  0  2  |  0  0  0  |  1  0  3\n0  0  1  |  0  5  9  |  0  0  0\n0  0  0  |  0  0  0  |  7  0  0\n- - - - - - - - - - - - - - - - "
     ]
    }
   ],
   "source": [
    "# Assignment - 007/10 (Sudoku Displayer)\n",
    "sudoku = [\n",
    "    [0, 0, 0, 0, 6, 4, 0, 0, 0],\n",
    "    [7, 0, 0, 0, 0, 0, 3, 9, 0],\n",
    "    [8, 0, 0, 0, 0, 0, 0, 0, 0],\n",
    "    [0, 0, 0, 5, 0, 2, 0, 6, 0],\n",
    "    [0, 8, 0, 4, 0, 0, 0, 0, 0],\n",
    "    [3, 5, 0, 6, 0, 0, 0, 7, 0],\n",
    "    [0, 0, 2, 0, 0, 0, 1, 0, 3],\n",
    "    [0, 0, 1, 0, 5, 9, 0, 0, 0],\n",
    "    [0, 0, 0, 0, 0, 0, 7, 0, 0]\n",
    "]\n",
    "count1 = 0\n",
    "for i in sudoku:\n",
    "    if count1 == 0 or count1 == 3 or count1 == 6:\n",
    "        for x in range(16):\n",
    "            print(\"-\", end=\" \")\n",
    "        print(end=\"\\n\")\n",
    "    count2 = 0\n",
    "    for j in i:\n",
    "        if count2 == 2 or count2 == 5:\n",
    "            print(j,\" |\", end=\"  \")\n",
    "        elif count2 == 8:\n",
    "            print(j, end=\"\\n\")\n",
    "        else:\n",
    "            print(j, end=\"  \")\n",
    "        count2 += 1\n",
    "    count1 +=1\n",
    "    if count1 == 9:\n",
    "        for x in range(16):\n",
    "            print(\"-\", end=\" \")"
   ]
  },
  {
   "cell_type": "code",
   "execution_count": null,
   "metadata": {},
   "outputs": [],
   "source": []
  }
 ]
}