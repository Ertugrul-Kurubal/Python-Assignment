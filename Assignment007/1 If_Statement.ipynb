{
 "metadata": {
  "language_info": {
   "codemirror_mode": {
    "name": "ipython",
    "version": 3
   },
   "file_extension": ".py",
   "mimetype": "text/x-python",
   "name": "python",
   "nbconvert_exporter": "python",
   "pygments_lexer": "ipython3",
   "version": "3.9.0-final"
  },
  "orig_nbformat": 2,
  "kernelspec": {
   "name": "python3",
   "display_name": "Python 3",
   "language": "python"
  }
 },
 "nbformat": 4,
 "nbformat_minor": 2,
 "cells": [
  {
   "cell_type": "code",
   "execution_count": 1,
   "metadata": {},
   "outputs": [
    {
     "output_type": "stream",
     "name": "stdout",
     "text": [
      "Hello, Ertuğrul! The password is : W@12\n"
     ]
    }
   ],
   "source": [
    "# Assignment - 007/1 (if-Statement)\n",
    "name_1 = input(\"Enter your name :\")\n",
    "answer = \"Ertuğrul\"\n",
    "if name_1 == answer :\n",
    "    print(\"Hello, Ertuğrul! The password is : W@12\")\n",
    "else :\n",
    "    print(\"Hello, {}! See you later.\".format(name_1))"
   ]
  },
  {
   "cell_type": "code",
   "execution_count": null,
   "metadata": {},
   "outputs": [],
   "source": []
  }
 ]
}