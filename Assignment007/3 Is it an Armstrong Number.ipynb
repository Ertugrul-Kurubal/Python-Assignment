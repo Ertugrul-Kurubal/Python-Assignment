{
 "metadata": {
  "language_info": {
   "codemirror_mode": {
    "name": "ipython",
    "version": 3
   },
   "file_extension": ".py",
   "mimetype": "text/x-python",
   "name": "python",
   "nbconvert_exporter": "python",
   "pygments_lexer": "ipython3",
   "version": "3.9.0-final"
  },
  "orig_nbformat": 2,
  "kernelspec": {
   "name": "python3",
   "display_name": "Python 3",
   "language": "python"
  }
 },
 "nbformat": 4,
 "nbformat_minor": 2,
 "cells": [
  {
   "cell_type": "code",
   "execution_count": 1,
   "metadata": {},
   "outputs": [
    {
     "output_type": "stream",
     "name": "stdout",
     "text": [
      "407 is an Armstrong Number\n"
     ]
    }
   ],
   "source": [
    "# Assignment - 007/3 (Is it an Armstrong Number?)\n",
    "while True:\n",
    "    num_1 = input(\"Enter a positive number: \")\n",
    "    num_2 = len(set(str(num_1.lower())).intersection(set('qazwsxedcrfvtgbyhnujmıköolçpşğüi.,:;!?-')))\n",
    "    if num_2 > 0:\n",
    "        print(\"It is an invalid entry. Don't use non-numeric, float, or negative values!\")\n",
    "    else :\n",
    "        break\n",
    "\n",
    "num_list = list(str(num_1))\n",
    "sum_1 = 0\n",
    "for i in num_list:\n",
    "    sum_1 += (int(i)**len(num_list))\n",
    "sum_2 = sum_1\n",
    "if sum_2 == int(num_1):\n",
    "    print(f\"{int(num_1)} is an Armstrong Number\")\n",
    "else :\n",
    "    print(f\"{int(num_1)} is not an Armstrong Number\")"
   ]
  },
  {
   "cell_type": "code",
   "execution_count": null,
   "metadata": {},
   "outputs": [],
   "source": []
  }
 ]
}