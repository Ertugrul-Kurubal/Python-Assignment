{
 "metadata": {
  "language_info": {
   "codemirror_mode": {
    "name": "ipython",
    "version": 3
   },
   "file_extension": ".py",
   "mimetype": "text/x-python",
   "name": "python",
   "nbconvert_exporter": "python",
   "pygments_lexer": "ipython3",
   "version": "3.9.0-final"
  },
  "orig_nbformat": 2,
  "kernelspec": {
   "name": "python3",
   "display_name": "Python 3",
   "language": "python"
  }
 },
 "nbformat": 4,
 "nbformat_minor": 2,
 "cells": [
  {
   "cell_type": "code",
   "execution_count": 1,
   "metadata": {},
   "outputs": [
    {
     "output_type": "stream",
     "name": "stdout",
     "text": [
      "(['S', 'W', 'A', 'Y'], 4)\n"
     ]
    }
   ],
   "source": [
    "# Task - 1 (Lambda Functions)\n",
    "list_1 = [['C', 'L'], ['A', 'R', 'U'], ['S', 'W', 'A', 'Y']]\n",
    "result_1 = ((lambda x : max(x, key=len) )(list_1))\n",
    "result_2 = len(result_1)\n",
    "result_3 = (result_1, result_2)\n",
    "print(result_3)"
   ]
  },
  {
   "cell_type": "code",
   "execution_count": 2,
   "metadata": {},
   "outputs": [
    {
     "output_type": "stream",
     "name": "stdout",
     "text": [
      "([2, 3, 5, 1], 4)\n"
     ]
    }
   ],
   "source": [
    "list_1 = [[2, 3, 5, 1], [0, 2], [1]]\n",
    "result_1 = ((lambda x : max(x, key=len) )(list_1))\n",
    "result_2 = len(result_1)\n",
    "result_3 = (result_1, result_2)\n",
    "print(result_3)"
   ]
  },
  {
   "cell_type": "code",
   "execution_count": null,
   "metadata": {},
   "outputs": [],
   "source": [
    "# Task - 2 (Defining Functions)"
   ]
  }
 ]
}